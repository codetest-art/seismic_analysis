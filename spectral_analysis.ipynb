{
  "nbformat": 4,
  "nbformat_minor": 0,
  "metadata": {
    "colab": {
      "provenance": []
    },
    "kernelspec": {
      "name": "python3",
      "display_name": "Python 3"
    },
    "language_info": {
      "name": "python"
    }
  },
  "cells": [
    {
      "cell_type": "code",
      "execution_count": 2,
      "metadata": {
        "colab": {
          "base_uri": "https://localhost:8080/"
        },
        "id": "PGMjQU20yY-q",
        "outputId": "56bb0d83-2d84-4c68-d0ff-f016a2259c0b"
      },
      "outputs": [
        {
          "output_type": "stream",
          "name": "stdout",
          "text": [
            "#1 Dominant Frequency: 16.00 Hz\n",
            "#2 Dominant Frequency: 18.00 Hz\n",
            "#3 Dominant Frequency: 14.00 Hz\n",
            "#4 Dominant Frequency: 20.00 Hz\n",
            "#5 Dominant Frequency: 22.00 Hz\n"
          ]
        }
      ],
      "source": [
        "import numpy as np\n",
        "import pandas as pd\n",
        "filename = 'seismic_data.csv'\n",
        "df = pd.read_csv(filename)\n",
        "t = df.iloc[:, 0].values\n",
        "a = df.iloc[:, 1].values\n",
        "n = len(a)\n",
        "dt = t[1] - t[0]\n",
        "fs = 1 / dt\n",
        "f = np.fft.rfftfreq(n, dt)\n",
        "A = np.abs(np.fft.rfft(a))\n",
        "dominant_indices = np.argsort(A)[-5:][::-1]\n",
        "dominant_frequencies = f[dominant_indices]\n",
        "dominant_magnitudes = A[dominant_indices]\n",
        "for i, freq in enumerate(dominant_frequencies):\n",
        "  print(f\"#{i+1} Dominant Frequency: {freq:.2f} Hz\")"
      ]
    }
  ]
}